{
 "cells": [
  {
   "cell_type": "code",
   "execution_count": 17,
   "metadata": {},
   "outputs": [
    {
     "name": "stdout",
     "output_type": "stream",
     "text": [
      "0    {'data': {'extra': None, 'state': None, 'count...\n",
      "1    {'data': {'extra': None, 'state': None, 'count...\n",
      "2    {'data': {'extra': None, 'state': 'Gauteng', '...\n",
      "3    {'data': {'extra': None, 'state': None, 'count...\n",
      "4    {'data': {'extra': None, 'state': None, 'count...\n",
      "Name: filtered_candidate_briefs, dtype: object\n",
      "0    {'data': {'extra': None, 'state': None, 'count...\n",
      "1    {'data': {'extra': None, 'state': None, 'count...\n",
      "2    {'data': {'extra': None, 'state': 'Gauteng', '...\n",
      "3    {'data': {'extra': None, 'state': None, 'count...\n",
      "Name: filtered_candidate_briefs, dtype: object\n"
     ]
    }
   ],
   "source": [
    "import pandas as pd\n",
    "\n",
    "# Sample DataFrame\n",
    "data = [\n",
    "    {\n",
    "        'application_id': 1005106,\n",
    "        'candidate_titles': ['human resources and administrator manager'],\n",
    "        'cos_sim_score': 0.9709193706512450,\n",
    "        'filtered_candidate_briefs': {'data': {'extra': None, 'state': None, 'country': 'KE'}, 'most_recent_title': 'Program Manager'},\n",
    "        'percentiles': None\n",
    "    },\n",
    "    {\n",
    "        'application_id': 1005107,\n",
    "        'candidate_titles': ['Group Internal Auditor', 'Audit Senior', 'Management Accountant', 'Financial Accountant', 'Head Of Finance', 'Financial Management Consultant', 'Head Of Finance'],\n",
    "        'cos_sim_score': 0.9378770589828490,\n",
    "        'filtered_candidate_briefs': {'data': {'extra': None, 'state': None, 'country': 'KE'}, 'most_recent_title': 'Software Engineer'},\n",
    "        'percentiles': None\n",
    "    },\n",
    "    {\n",
    "        'application_id': 1005108,\n",
    "        'candidate_titles': ['Human Resources and customer service intern', 'Freelance Blogger', 'Human Resources Officer', 'Human Resources Officer', 'Human Resource/Administrative Officer', 'Human Resources Manager', 'HR/Admin Manager'],\n",
    "        'cos_sim_score': 0.9627970457077020,\n",
    "        'filtered_candidate_briefs': {'data': {'extra': None, 'state': 'Gauteng', 'country': 'ZA'}, 'most_recent_title': 'Inventory Accountant'},\n",
    "        'percentiles': None\n",
    "    },\n",
    "    {\n",
    "        'application_id': 1008194,\n",
    "        'candidate_titles': ['Software Trainer and IT Consultant', 'Lead Software Engineer', 'Software Developer', 'Back End Developer'],\n",
    "        'cos_sim_score': 0.412960559129714,\n",
    "        'filtered_candidate_briefs': {'data': {'extra': None, 'state': None, 'country': 'NG'}, 'most_recent_title': 'FRONT DESK OFFICER'},\n",
    "        'percentiles': None\n",
    "    }\n",
    "]\n",
    "\n",
    "# Create DataFrame\n",
    "vetting_df1 = pd.DataFrame(data)\n",
    "vetting_df = pd.read_csv('vetting_assignment.csv')\n",
    "print(vetting_df['filtered_candidate_briefs'].head(5))\n",
    "print(vetting_df['filtered_candidate_briefs'].head(5))\n",
    "# Extract country using apply and lambda\n",
    "vetting_df['candidate_country'] = vetting_df['filtered_candidate_briefs'].apply(lambda x: x['data']['country'])\n",
    "# Display the DataFrame\n",
    "print(vetting_df[['application_id', 'candidate_country']])\n"
   ]
  }
 ],
 "metadata": {
  "kernelspec": {
   "display_name": "Python 3",
   "language": "python",
   "name": "python3"
  },
  "language_info": {
   "codemirror_mode": {
    "name": "ipython",
    "version": 3
   },
   "file_extension": ".py",
   "mimetype": "text/x-python",
   "name": "python",
   "nbconvert_exporter": "python",
   "pygments_lexer": "ipython3",
   "version": "3.9.6"
  }
 },
 "nbformat": 4,
 "nbformat_minor": 2
}
